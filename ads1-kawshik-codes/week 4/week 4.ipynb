{
 "cells": [
  {
   "cell_type": "markdown",
   "metadata": {},
   "source": [
    "# Implementing Shortest Common Superstring (SCS)"
   ]
  },
  {
   "cell_type": "code",
   "execution_count": 2,
   "metadata": {},
   "outputs": [],
   "source": [
    "def overlap(a, b, min_length=3):\n",
    "    start = 0\n",
    "    while True:\n",
    "        start = a.find(b[:min_length], start)\n",
    "        if start == -1:\n",
    "            return 0\n",
    "        if b.startswith(a[start:]):\n",
    "            return len(a)-start\n",
    "        start +=1 "
   ]
  },
  {
   "cell_type": "code",
   "execution_count": 3,
   "metadata": {},
   "outputs": [],
   "source": [
    "import itertools\n",
    "\n",
    "def scs(ss):                                                      #ss hocche seisob string er list jader scs ber krte hbe\n",
    "    shortest_sup = None\n",
    "    for ssperm in itertools.permutations(ss):                     #ss str gular permutation krbe\n",
    "        sup = ssperm[0]                                           # proti permutation er prothom str nibe\n",
    "        for i in range(len(ss)-1):\n",
    "            olen = overlap(ssperm[i], ssperm[i+1], min_length=1)  # i th and (i+1)th er moddhe koyta overlap hocche dekhbe\n",
    "            sup += ssperm[i+1][olen:]                             # i and (i+1)th er jotogula overlap hoise, i+1 th er prothom totogula baad diye sup er sathe append krbe\n",
    "        if shortest_sup is None or len(sup) < len(shortest_sup):\n",
    "            shortest_sup = sup                                    #shortest ta update kora\n",
    "    return shortest_sup\n",
    "            "
   ]
  },
  {
   "cell_type": "code",
   "execution_count": 4,
   "metadata": {},
   "outputs": [
    {
     "data": {
      "text/plain": [
       "'GACACGGTACGAGCTTCGGA'"
      ]
     },
     "execution_count": 4,
     "metadata": {},
     "output_type": "execute_result"
    }
   ],
   "source": [
    "scs(['ACGGTACGAGC', 'GAGCTTCGGA', 'GACACGG'])"
   ]
  },
  {
   "cell_type": "markdown",
   "metadata": {},
   "source": [
    "# Implementing Greedy Shortest Common Superstring (GSCS)"
   ]
  },
  {
   "cell_type": "code",
   "execution_count": 5,
   "metadata": {},
   "outputs": [],
   "source": [
    "def pick_maximal_overlap(reads, k):\n",
    "    reada, readb = None, None\n",
    "    best_olen = 0\n",
    "    for a, b in itertools.permutations(reads, 2):     # reads str gula theke 2 ta kore niye permutation korbe\n",
    "        olen = overlap(a, b, min_length=k)            # a, b er moddhe overlap check\n",
    "        if olen > best_olen:\n",
    "            reada, readb = a, b                       # best overlap hole a, b, best_olen nibe\n",
    "            best_olen = olen\n",
    "    return reada, readb, best_olen"
   ]
  },
  {
   "cell_type": "code",
   "execution_count": 8,
   "metadata": {},
   "outputs": [],
   "source": [
    "def greedy_scs(reads, k):\n",
    "    read_a, read_b, olen = pick_maximal_overlap(reads, k)      # best overlap nibe\n",
    "    while olen > 0:                                            # jotokkhon 0+ overlap pawa jacche\n",
    "        reads.remove(read_a) \n",
    "        reads.remove(read_b)\n",
    "        reads.append(read_a + read_b[olen:])                   # a,b remove kore a+b kore dibe\n",
    "        read_a, read_b, olen = pick_maximal_overlap(reads, k)  # a+b kore abar chalabe\n",
    "    return ''.join(reads)                                      # final reads gulo join kore dibe eksathe"
   ]
  },
  {
   "cell_type": "code",
   "execution_count": 9,
   "metadata": {},
   "outputs": [
    {
     "data": {
      "text/plain": [
       "'CABCA'"
      ]
     },
     "execution_count": 9,
     "metadata": {},
     "output_type": "execute_result"
    }
   ],
   "source": [
    "greedy_scs(['ABC', 'BCA', 'CAB'], 2)"
   ]
  },
  {
   "cell_type": "code",
   "execution_count": 10,
   "metadata": {},
   "outputs": [
    {
     "data": {
      "text/plain": [
       "'CABCA'"
      ]
     },
     "execution_count": 10,
     "metadata": {},
     "output_type": "execute_result"
    }
   ],
   "source": [
    "greedy_scs(['ABC', 'BCA', 'CAB'], 1)"
   ]
  },
  {
   "cell_type": "code",
   "execution_count": 11,
   "metadata": {},
   "outputs": [
    {
     "data": {
      "text/plain": [
       "'CDBCABCDA'"
      ]
     },
     "execution_count": 11,
     "metadata": {},
     "output_type": "execute_result"
    }
   ],
   "source": [
    "greedy_scs(['ABCD', 'CDBC', 'BCDA'], 1)"
   ]
  },
  {
   "cell_type": "code",
   "execution_count": 16,
   "metadata": {},
   "outputs": [
    {
     "name": "stdout",
     "output_type": "stream",
     "text": [
      "CDBCABCDA\n",
      "ABCDBCDA\n"
     ]
    }
   ],
   "source": [
    "# Greedy SCS sometimes inappropriate ans dite pare, but it's faster than normal SCS\n",
    "\n",
    "print(greedy_scs(['ABCD', 'CDBC', 'BCDA'], 1))\n",
    "print(scs(['ABCD', 'CDBC', 'BCDA']))"
   ]
  },
  {
   "cell_type": "code",
   "execution_count": 18,
   "metadata": {},
   "outputs": [],
   "source": [
    " # when the genome is repetitive, the shortest common superstring of the reads is not going to be the correct answer.\n",
    " # to solve it, use De Bruijin Graph"
   ]
  },
  {
   "cell_type": "markdown",
   "metadata": {},
   "source": [
    "# Building De Bruijn Graph"
   ]
  },
  {
   "cell_type": "code",
   "execution_count": 26,
   "metadata": {},
   "outputs": [],
   "source": [
    "def de_bruijn_ize(st, k):                       # k-mer er k\n",
    "    edges = []\n",
    "    nodes = set()\n",
    "    for i in range(len(st) - k + 1):\n",
    "        edges.append((st[i:i+k-1], st[i+1:i+k]))  # each k-1 mer\n",
    "        nodes.add(st[i:i+k-1])\n",
    "        nodes.add(st[i+1:i+k])\n",
    "    return nodes, edges"
   ]
  },
  {
   "cell_type": "code",
   "execution_count": 27,
   "metadata": {},
   "outputs": [],
   "source": [
    "nodes, edges = de_bruijn_ize('ACGCGTCG', 3)"
   ]
  },
  {
   "cell_type": "code",
   "execution_count": 28,
   "metadata": {},
   "outputs": [
    {
     "name": "stdout",
     "output_type": "stream",
     "text": [
      "{'AC', 'CG', 'TC', 'GT', 'GC'}\n"
     ]
    }
   ],
   "source": [
    "print(nodes)"
   ]
  },
  {
   "cell_type": "code",
   "execution_count": 29,
   "metadata": {},
   "outputs": [
    {
     "name": "stdout",
     "output_type": "stream",
     "text": [
      "[('AC', 'CG'), ('CG', 'GC'), ('GC', 'CG'), ('CG', 'GT'), ('GT', 'TC'), ('TC', 'CG')]\n"
     ]
    }
   ],
   "source": [
    "print(edges)"
   ]
  },
  {
   "cell_type": "markdown",
   "metadata": {},
   "source": [
    "# Quiz Week 4"
   ]
  },
  {
   "cell_type": "code",
   "execution_count": 34,
   "metadata": {},
   "outputs": [
    {
     "name": "stdout",
     "output_type": "stream",
     "text": [
      "Week 4 Question 1:\n",
      "CCTTGGATTGC  length =  11\n"
     ]
    }
   ],
   "source": [
    "print('Week 4 Question 1:')\n",
    "print(scs(['CCT', 'CTT', 'TGC', 'TGG', 'GAT', 'ATT']), ' length = ', len(scs(['CCT', 'CTT', 'TGC', 'TGG', 'GAT', 'ATT'])))"
   ]
  },
  {
   "cell_type": "code",
   "execution_count": null,
   "metadata": {},
   "outputs": [],
   "source": []
  },
  {
   "cell_type": "code",
   "execution_count": null,
   "metadata": {},
   "outputs": [],
   "source": []
  }
 ],
 "metadata": {
  "kernelspec": {
   "display_name": "Python 3",
   "language": "python",
   "name": "python3"
  },
  "language_info": {
   "codemirror_mode": {
    "name": "ipython",
    "version": 3
   },
   "file_extension": ".py",
   "mimetype": "text/x-python",
   "name": "python",
   "nbconvert_exporter": "python",
   "pygments_lexer": "ipython3",
   "version": "3.7.3"
  }
 },
 "nbformat": 4,
 "nbformat_minor": 2
}
